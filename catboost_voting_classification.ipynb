{
  "nbformat": 4,
  "nbformat_minor": 0,
  "metadata": {
    "kernelspec": {
      "display_name": "Python 3",
      "language": "python",
      "name": "python3"
    },
    "language_info": {
      "codemirror_mode": {
        "name": "ipython",
        "version": 3
      },
      "file_extension": ".py",
      "mimetype": "text/x-python",
      "name": "python",
      "nbconvert_exporter": "python",
      "pygments_lexer": "ipython3",
      "version": "3.7.6"
    },
    "papermill": {
      "duration": 5144.035282,
      "end_time": "2020-11-10T14:18:03.322162",
      "environment_variables": {},
      "exception": null,
      "input_path": "__notebook__.ipynb",
      "output_path": "__notebook__.ipynb",
      "parameters": {},
      "start_time": "2020-11-10T12:52:19.286880",
      "version": "2.1.0"
    },
    "colab": {
      "name": "linhntn3-voting-classification.ipynb",
      "provenance": [],
      "collapsed_sections": [],
      "toc_visible": true
    }
  },
  "cells": [
    {
      "cell_type": "markdown",
      "metadata": {
        "papermill": {
          "duration": 0.036141,
          "end_time": "2020-11-10T12:52:24.212740",
          "exception": false,
          "start_time": "2020-11-10T12:52:24.176599",
          "status": "completed"
        },
        "tags": [],
        "id": "G-wNpmtJulTX"
      },
      "source": [
        "###### LightGBM version 6"
      ]
    },
    {
      "cell_type": "code",
      "metadata": {
        "id": "OAmwEH_rvMSz",
        "colab": {
          "base_uri": "https://localhost:8080/"
        },
        "outputId": "0bbba72d-a0db-4609-b345-fc08b9824695"
      },
      "source": [
        "\n",
        "\n",
        "from google.colab import drive\n",
        "drive.mount('/content/drive')"
      ],
      "execution_count": null,
      "outputs": [
        {
          "output_type": "stream",
          "text": [
            "Mounted at /content/drive\n"
          ],
          "name": "stdout"
        }
      ]
    },
    {
      "cell_type": "code",
      "metadata": {
        "_cell_guid": "b1076dfc-b9ad-4769-8c92-a6c4dae69d19",
        "_uuid": "8f2839f25d086af736a60e9eeb907d3b93b6e0e5",
        "execution": {
          "iopub.execute_input": "2020-11-10T12:52:24.288619Z",
          "iopub.status.busy": "2020-11-10T12:52:24.287601Z",
          "iopub.status.idle": "2020-11-10T12:52:24.293804Z",
          "shell.execute_reply": "2020-11-10T12:52:24.292853Z"
        },
        "papermill": {
          "duration": 0.046786,
          "end_time": "2020-11-10T12:52:24.293948",
          "exception": false,
          "start_time": "2020-11-10T12:52:24.247162",
          "status": "completed"
        },
        "tags": [],
        "id": "W_DHn3MmulTd"
      },
      "source": [
        "import numpy as np\n",
        "import pandas as pd\n",
        "\n",
        "import os\n",
        "for dirname, _, filenames in os.walk('../input/lish-moa/'):\n",
        "    for filename in filenames:\n",
        "        print(os.path.join(dirname, filename))"
      ],
      "execution_count": null,
      "outputs": []
    },
    {
      "cell_type": "markdown",
      "metadata": {
        "papermill": {
          "duration": 0.033098,
          "end_time": "2020-11-10T12:52:24.359373",
          "exception": false,
          "start_time": "2020-11-10T12:52:24.326275",
          "status": "completed"
        },
        "tags": [],
        "id": "T_OHbJt_ulTz"
      },
      "source": [
        "## Read data"
      ]
    },
    {
      "cell_type": "code",
      "metadata": {
        "execution": {
          "iopub.execute_input": "2020-11-10T12:52:24.430867Z",
          "iopub.status.busy": "2020-11-10T12:52:24.429777Z",
          "iopub.status.idle": "2020-11-10T12:52:24.433128Z",
          "shell.execute_reply": "2020-11-10T12:52:24.432527Z"
        },
        "papermill": {
          "duration": 0.04205,
          "end_time": "2020-11-10T12:52:24.433271",
          "exception": false,
          "start_time": "2020-11-10T12:52:24.391221",
          "status": "completed"
        },
        "tags": [],
        "id": "W6hzJ4M4ulT2"
      },
      "source": [
        "folder_path = '/content/drive/My Drive/Colab Notebooks/'\n",
        "input_path = folder_path #'../input/dictfeats/'\n",
        "# param_path = '../input/params/'"
      ],
      "execution_count": null,
      "outputs": []
    },
    {
      "cell_type": "code",
      "metadata": {
        "_cell_guid": "79c7e3d0-c299-4dcb-8224-4455121ee9b0",
        "_uuid": "d629ff2d2480ee46fbb7e2d37f6b5fab8052498a",
        "execution": {
          "iopub.execute_input": "2020-11-10T12:52:24.505854Z",
          "iopub.status.busy": "2020-11-10T12:52:24.504596Z",
          "iopub.status.idle": "2020-11-10T12:52:29.760157Z",
          "shell.execute_reply": "2020-11-10T12:52:29.759395Z"
        },
        "papermill": {
          "duration": 5.293893,
          "end_time": "2020-11-10T12:52:29.760296",
          "exception": false,
          "start_time": "2020-11-10T12:52:24.466403",
          "status": "completed"
        },
        "tags": [],
        "id": "AadMlLttulUC",
        "colab": {
          "base_uri": "https://localhost:8080/"
        },
        "outputId": "5f4c76f8-0131-4925-cc17-40dfbc18b9f8"
      },
      "source": [
        "\n",
        "train = pd.read_csv(folder_path +'train_features.csv')\n",
        "\n",
        "train.shape"
      ],
      "execution_count": null,
      "outputs": [
        {
          "output_type": "execute_result",
          "data": {
            "text/plain": [
              "(23814, 876)"
            ]
          },
          "metadata": {
            "tags": []
          },
          "execution_count": 35
        }
      ]
    },
    {
      "cell_type": "code",
      "metadata": {
        "execution": {
          "iopub.execute_input": "2020-11-10T12:52:29.834562Z",
          "iopub.status.busy": "2020-11-10T12:52:29.833507Z",
          "iopub.status.idle": "2020-11-10T12:52:30.240742Z",
          "shell.execute_reply": "2020-11-10T12:52:30.239957Z"
        },
        "papermill": {
          "duration": 0.447278,
          "end_time": "2020-11-10T12:52:30.240875",
          "exception": false,
          "start_time": "2020-11-10T12:52:29.793597",
          "status": "completed"
        },
        "tags": [],
        "id": "Han4z1lkulUN",
        "colab": {
          "base_uri": "https://localhost:8080/"
        },
        "outputId": "4911a12f-ae90-4d12-9d87-7c0a978697fa"
      },
      "source": [
        "train_target = pd.read_csv(folder_path +'train_targets_scored.csv')\n",
        "\n",
        "train_target.shape"
      ],
      "execution_count": null,
      "outputs": [
        {
          "output_type": "execute_result",
          "data": {
            "text/plain": [
              "(23814, 207)"
            ]
          },
          "metadata": {
            "tags": []
          },
          "execution_count": 36
        }
      ]
    },
    {
      "cell_type": "code",
      "metadata": {
        "execution": {
          "iopub.execute_input": "2020-11-10T12:52:30.314389Z",
          "iopub.status.busy": "2020-11-10T12:52:30.312609Z",
          "iopub.status.idle": "2020-11-10T12:52:31.154213Z",
          "shell.execute_reply": "2020-11-10T12:52:31.153419Z"
        },
        "papermill": {
          "duration": 0.880973,
          "end_time": "2020-11-10T12:52:31.154342",
          "exception": false,
          "start_time": "2020-11-10T12:52:30.273369",
          "status": "completed"
        },
        "tags": [],
        "id": "AcuahCkpulUX"
      },
      "source": [
        "test = pd.read_csv(folder_path +'test_features.csv')\n",
        "\n",
        "test.shape"
      ],
      "execution_count": null,
      "outputs": []
    },
    {
      "cell_type": "markdown",
      "metadata": {
        "papermill": {
          "duration": 0.033564,
          "end_time": "2020-11-10T12:52:31.222398",
          "exception": false,
          "start_time": "2020-11-10T12:52:31.188834",
          "status": "completed"
        },
        "tags": [],
        "id": "xxt_GjGKulUi"
      },
      "source": [
        "## Check agonist / antagonist"
      ]
    },
    {
      "cell_type": "code",
      "metadata": {
        "execution": {
          "iopub.execute_input": "2020-11-10T12:52:31.304993Z",
          "iopub.status.busy": "2020-11-10T12:52:31.303930Z",
          "iopub.status.idle": "2020-11-10T12:52:31.309449Z",
          "shell.execute_reply": "2020-11-10T12:52:31.308155Z"
        },
        "papermill": {
          "duration": 0.053195,
          "end_time": "2020-11-10T12:52:31.309601",
          "exception": false,
          "start_time": "2020-11-10T12:52:31.256406",
          "status": "completed"
        },
        "tags": [],
        "id": "gEvBUj_AulUk",
        "colab": {
          "base_uri": "https://localhost:8080/"
        },
        "outputId": "567c8228-4c8b-4274-b478-f9faaa57b8f0"
      },
      "source": [
        "antagonists = []\n",
        "\n",
        "for column in train_target.columns:\n",
        "    if column.endswith('_agonist'):\n",
        "        antagonist = column.replace('_agonist', '_antagonist')\n",
        "        if antagonist in train_target.columns:\n",
        "            antagonists.append((column, antagonist))\n",
        "\n",
        "antagonists"
      ],
      "execution_count": null,
      "outputs": [
        {
          "output_type": "execute_result",
          "data": {
            "text/plain": [
              "[('acetylcholine_receptor_agonist', 'acetylcholine_receptor_antagonist'),\n",
              " ('adenosine_receptor_agonist', 'adenosine_receptor_antagonist'),\n",
              " ('adrenergic_receptor_agonist', 'adrenergic_receptor_antagonist'),\n",
              " ('androgen_receptor_agonist', 'androgen_receptor_antagonist'),\n",
              " ('cannabinoid_receptor_agonist', 'cannabinoid_receptor_antagonist'),\n",
              " ('dopamine_receptor_agonist', 'dopamine_receptor_antagonist'),\n",
              " ('estrogen_receptor_agonist', 'estrogen_receptor_antagonist'),\n",
              " ('gaba_receptor_agonist', 'gaba_receptor_antagonist'),\n",
              " ('glutamate_receptor_agonist', 'glutamate_receptor_antagonist'),\n",
              " ('histamine_receptor_agonist', 'histamine_receptor_antagonist'),\n",
              " ('opioid_receptor_agonist', 'opioid_receptor_antagonist'),\n",
              " ('ppar_receptor_agonist', 'ppar_receptor_antagonist'),\n",
              " ('progesterone_receptor_agonist', 'progesterone_receptor_antagonist'),\n",
              " ('retinoid_receptor_agonist', 'retinoid_receptor_antagonist'),\n",
              " ('serotonin_receptor_agonist', 'serotonin_receptor_antagonist'),\n",
              " ('sigma_receptor_agonist', 'sigma_receptor_antagonist'),\n",
              " ('tlr_agonist', 'tlr_antagonist'),\n",
              " ('trpv_agonist', 'trpv_antagonist')]"
            ]
          },
          "metadata": {
            "tags": []
          },
          "execution_count": 12
        }
      ]
    },
    {
      "cell_type": "markdown",
      "metadata": {
        "papermill": {
          "duration": 0.034094,
          "end_time": "2020-11-10T12:52:31.379190",
          "exception": false,
          "start_time": "2020-11-10T12:52:31.345096",
          "status": "completed"
        },
        "tags": [],
        "id": "JcybPVctulUt"
      },
      "source": [
        "List agonist / antagonist pairs where both features have 1"
      ]
    },
    {
      "cell_type": "code",
      "metadata": {
        "execution": {
          "iopub.execute_input": "2020-11-10T12:52:31.456519Z",
          "iopub.status.busy": "2020-11-10T12:52:31.455632Z",
          "iopub.status.idle": "2020-11-10T12:52:31.512456Z",
          "shell.execute_reply": "2020-11-10T12:52:31.513449Z"
        },
        "papermill": {
          "duration": 0.101085,
          "end_time": "2020-11-10T12:52:31.513674",
          "exception": false,
          "start_time": "2020-11-10T12:52:31.412589",
          "status": "completed"
        },
        "tags": [],
        "id": "zU4QwMQFulUv",
        "colab": {
          "base_uri": "https://localhost:8080/"
        },
        "outputId": "970a83b9-bdb3-450f-e336-a7cd2c42741f"
      },
      "source": [
        "for pair in antagonists:\n",
        "    n = train_target[(train_target[pair[0]] == 1) & (train_target[pair[1]] == 1)].shape[0]\n",
        "    if n > 0:\n",
        "        print(pair[0], '-', pair[1])\n",
        "        print('Number of cases:', n)"
      ],
      "execution_count": null,
      "outputs": [
        {
          "output_type": "stream",
          "text": [
            "gaba_receptor_agonist - gaba_receptor_antagonist\n",
            "Number of cases: 6\n",
            "progesterone_receptor_agonist - progesterone_receptor_antagonist\n",
            "Number of cases: 6\n",
            "serotonin_receptor_agonist - serotonin_receptor_antagonist\n",
            "Number of cases: 7\n",
            "sigma_receptor_agonist - sigma_receptor_antagonist\n",
            "Number of cases: 6\n"
          ],
          "name": "stdout"
        }
      ]
    },
    {
      "cell_type": "code",
      "metadata": {
        "id": "l72J7ZLlxsEO",
        "colab": {
          "base_uri": "https://localhost:8080/",
          "height": 433
        },
        "outputId": "1677af5c-8d30-41bb-ae52-3f6cc04fb778"
      },
      "source": [
        "train"
      ],
      "execution_count": null,
      "outputs": [
        {
          "output_type": "execute_result",
          "data": {
            "text/html": [
              "<div>\n",
              "<style scoped>\n",
              "    .dataframe tbody tr th:only-of-type {\n",
              "        vertical-align: middle;\n",
              "    }\n",
              "\n",
              "    .dataframe tbody tr th {\n",
              "        vertical-align: top;\n",
              "    }\n",
              "\n",
              "    .dataframe thead th {\n",
              "        text-align: right;\n",
              "    }\n",
              "</style>\n",
              "<table border=\"1\" class=\"dataframe\">\n",
              "  <thead>\n",
              "    <tr style=\"text-align: right;\">\n",
              "      <th></th>\n",
              "      <th>sig_id</th>\n",
              "      <th>cp_type</th>\n",
              "      <th>cp_time</th>\n",
              "      <th>cp_dose</th>\n",
              "      <th>g-0</th>\n",
              "      <th>g-1</th>\n",
              "      <th>g-2</th>\n",
              "      <th>g-3</th>\n",
              "      <th>g-4</th>\n",
              "      <th>g-5</th>\n",
              "      <th>g-6</th>\n",
              "      <th>g-7</th>\n",
              "      <th>g-8</th>\n",
              "      <th>g-9</th>\n",
              "      <th>g-10</th>\n",
              "      <th>g-11</th>\n",
              "      <th>g-12</th>\n",
              "      <th>g-13</th>\n",
              "      <th>g-14</th>\n",
              "      <th>g-15</th>\n",
              "      <th>g-16</th>\n",
              "      <th>g-17</th>\n",
              "      <th>g-18</th>\n",
              "      <th>g-19</th>\n",
              "      <th>g-20</th>\n",
              "      <th>g-21</th>\n",
              "      <th>g-22</th>\n",
              "      <th>g-23</th>\n",
              "      <th>g-24</th>\n",
              "      <th>g-25</th>\n",
              "      <th>g-26</th>\n",
              "      <th>g-27</th>\n",
              "      <th>g-28</th>\n",
              "      <th>g-29</th>\n",
              "      <th>g-30</th>\n",
              "      <th>g-31</th>\n",
              "      <th>g-32</th>\n",
              "      <th>g-33</th>\n",
              "      <th>g-34</th>\n",
              "      <th>g-35</th>\n",
              "      <th>...</th>\n",
              "      <th>c-60</th>\n",
              "      <th>c-61</th>\n",
              "      <th>c-62</th>\n",
              "      <th>c-63</th>\n",
              "      <th>c-64</th>\n",
              "      <th>c-65</th>\n",
              "      <th>c-66</th>\n",
              "      <th>c-67</th>\n",
              "      <th>c-68</th>\n",
              "      <th>c-69</th>\n",
              "      <th>c-70</th>\n",
              "      <th>c-71</th>\n",
              "      <th>c-72</th>\n",
              "      <th>c-73</th>\n",
              "      <th>c-74</th>\n",
              "      <th>c-75</th>\n",
              "      <th>c-76</th>\n",
              "      <th>c-77</th>\n",
              "      <th>c-78</th>\n",
              "      <th>c-79</th>\n",
              "      <th>c-80</th>\n",
              "      <th>c-81</th>\n",
              "      <th>c-82</th>\n",
              "      <th>c-83</th>\n",
              "      <th>c-84</th>\n",
              "      <th>c-85</th>\n",
              "      <th>c-86</th>\n",
              "      <th>c-87</th>\n",
              "      <th>c-88</th>\n",
              "      <th>c-89</th>\n",
              "      <th>c-90</th>\n",
              "      <th>c-91</th>\n",
              "      <th>c-92</th>\n",
              "      <th>c-93</th>\n",
              "      <th>c-94</th>\n",
              "      <th>c-95</th>\n",
              "      <th>c-96</th>\n",
              "      <th>c-97</th>\n",
              "      <th>c-98</th>\n",
              "      <th>c-99</th>\n",
              "    </tr>\n",
              "  </thead>\n",
              "  <tbody>\n",
              "    <tr>\n",
              "      <th>0</th>\n",
              "      <td>id_000644bb2</td>\n",
              "      <td>trt_cp</td>\n",
              "      <td>24</td>\n",
              "      <td>D1</td>\n",
              "      <td>1.0620</td>\n",
              "      <td>0.5577</td>\n",
              "      <td>-0.2479</td>\n",
              "      <td>-0.6208</td>\n",
              "      <td>-0.1944</td>\n",
              "      <td>-1.0120</td>\n",
              "      <td>-1.0220</td>\n",
              "      <td>-0.0326</td>\n",
              "      <td>0.5548</td>\n",
              "      <td>-0.0921</td>\n",
              "      <td>1.1830</td>\n",
              "      <td>0.1530</td>\n",
              "      <td>0.5574</td>\n",
              "      <td>-0.4015</td>\n",
              "      <td>0.1789</td>\n",
              "      <td>-0.6528</td>\n",
              "      <td>-0.7969</td>\n",
              "      <td>0.6342</td>\n",
              "      <td>0.1778</td>\n",
              "      <td>-0.3694</td>\n",
              "      <td>-0.5688</td>\n",
              "      <td>-1.1360</td>\n",
              "      <td>-1.1880</td>\n",
              "      <td>0.6940</td>\n",
              "      <td>0.4393</td>\n",
              "      <td>0.2664</td>\n",
              "      <td>0.1907</td>\n",
              "      <td>0.1628</td>\n",
              "      <td>-0.2853</td>\n",
              "      <td>0.5819</td>\n",
              "      <td>0.2934</td>\n",
              "      <td>-0.5584</td>\n",
              "      <td>-0.0916</td>\n",
              "      <td>-0.3010</td>\n",
              "      <td>-0.1537</td>\n",
              "      <td>0.2198</td>\n",
              "      <td>...</td>\n",
              "      <td>0.4805</td>\n",
              "      <td>0.4965</td>\n",
              "      <td>0.3680</td>\n",
              "      <td>0.8427</td>\n",
              "      <td>0.1042</td>\n",
              "      <td>0.1403</td>\n",
              "      <td>0.1758</td>\n",
              "      <td>1.2570</td>\n",
              "      <td>-0.5979</td>\n",
              "      <td>1.2250</td>\n",
              "      <td>-0.0553</td>\n",
              "      <td>0.7351</td>\n",
              "      <td>0.5810</td>\n",
              "      <td>0.9590</td>\n",
              "      <td>0.2427</td>\n",
              "      <td>0.0495</td>\n",
              "      <td>0.4141</td>\n",
              "      <td>0.8432</td>\n",
              "      <td>0.6162</td>\n",
              "      <td>-0.7318</td>\n",
              "      <td>1.2120</td>\n",
              "      <td>0.6362</td>\n",
              "      <td>-0.4427</td>\n",
              "      <td>0.1288</td>\n",
              "      <td>1.4840</td>\n",
              "      <td>0.1799</td>\n",
              "      <td>0.5367</td>\n",
              "      <td>-0.1111</td>\n",
              "      <td>-1.0120</td>\n",
              "      <td>0.6685</td>\n",
              "      <td>0.2862</td>\n",
              "      <td>0.2584</td>\n",
              "      <td>0.8076</td>\n",
              "      <td>0.5523</td>\n",
              "      <td>-0.1912</td>\n",
              "      <td>0.6584</td>\n",
              "      <td>-0.3981</td>\n",
              "      <td>0.2139</td>\n",
              "      <td>0.3801</td>\n",
              "      <td>0.4176</td>\n",
              "    </tr>\n",
              "    <tr>\n",
              "      <th>1</th>\n",
              "      <td>id_000779bfc</td>\n",
              "      <td>trt_cp</td>\n",
              "      <td>72</td>\n",
              "      <td>D1</td>\n",
              "      <td>0.0743</td>\n",
              "      <td>0.4087</td>\n",
              "      <td>0.2991</td>\n",
              "      <td>0.0604</td>\n",
              "      <td>1.0190</td>\n",
              "      <td>0.5207</td>\n",
              "      <td>0.2341</td>\n",
              "      <td>0.3372</td>\n",
              "      <td>-0.4047</td>\n",
              "      <td>0.8507</td>\n",
              "      <td>-1.1520</td>\n",
              "      <td>-0.4201</td>\n",
              "      <td>-0.0958</td>\n",
              "      <td>0.4590</td>\n",
              "      <td>0.0803</td>\n",
              "      <td>0.2250</td>\n",
              "      <td>0.5293</td>\n",
              "      <td>0.2839</td>\n",
              "      <td>-0.3494</td>\n",
              "      <td>0.2883</td>\n",
              "      <td>0.9449</td>\n",
              "      <td>-0.1646</td>\n",
              "      <td>-0.2657</td>\n",
              "      <td>-0.3372</td>\n",
              "      <td>0.3135</td>\n",
              "      <td>-0.4316</td>\n",
              "      <td>0.4773</td>\n",
              "      <td>0.2075</td>\n",
              "      <td>-0.4216</td>\n",
              "      <td>-0.1161</td>\n",
              "      <td>-0.0499</td>\n",
              "      <td>-0.2627</td>\n",
              "      <td>0.9959</td>\n",
              "      <td>-0.2483</td>\n",
              "      <td>0.2655</td>\n",
              "      <td>-0.2102</td>\n",
              "      <td>...</td>\n",
              "      <td>0.4083</td>\n",
              "      <td>0.0319</td>\n",
              "      <td>0.3905</td>\n",
              "      <td>0.7099</td>\n",
              "      <td>0.2912</td>\n",
              "      <td>0.4151</td>\n",
              "      <td>-0.2840</td>\n",
              "      <td>-0.3104</td>\n",
              "      <td>-0.6373</td>\n",
              "      <td>0.2887</td>\n",
              "      <td>-0.0765</td>\n",
              "      <td>0.2539</td>\n",
              "      <td>0.4443</td>\n",
              "      <td>0.5932</td>\n",
              "      <td>0.2031</td>\n",
              "      <td>0.7639</td>\n",
              "      <td>0.5499</td>\n",
              "      <td>-0.3322</td>\n",
              "      <td>-0.0977</td>\n",
              "      <td>0.4329</td>\n",
              "      <td>-0.2782</td>\n",
              "      <td>0.7827</td>\n",
              "      <td>0.5934</td>\n",
              "      <td>0.3402</td>\n",
              "      <td>0.1499</td>\n",
              "      <td>0.4420</td>\n",
              "      <td>0.9366</td>\n",
              "      <td>0.8193</td>\n",
              "      <td>-0.4236</td>\n",
              "      <td>0.3192</td>\n",
              "      <td>-0.4265</td>\n",
              "      <td>0.7543</td>\n",
              "      <td>0.4708</td>\n",
              "      <td>0.0230</td>\n",
              "      <td>0.2957</td>\n",
              "      <td>0.4899</td>\n",
              "      <td>0.1522</td>\n",
              "      <td>0.1241</td>\n",
              "      <td>0.6077</td>\n",
              "      <td>0.7371</td>\n",
              "    </tr>\n",
              "    <tr>\n",
              "      <th>2</th>\n",
              "      <td>id_000a6266a</td>\n",
              "      <td>trt_cp</td>\n",
              "      <td>48</td>\n",
              "      <td>D1</td>\n",
              "      <td>0.6280</td>\n",
              "      <td>0.5817</td>\n",
              "      <td>1.5540</td>\n",
              "      <td>-0.0764</td>\n",
              "      <td>-0.0323</td>\n",
              "      <td>1.2390</td>\n",
              "      <td>0.1715</td>\n",
              "      <td>0.2155</td>\n",
              "      <td>0.0065</td>\n",
              "      <td>1.2300</td>\n",
              "      <td>-0.4797</td>\n",
              "      <td>-0.5631</td>\n",
              "      <td>-0.0366</td>\n",
              "      <td>-1.8300</td>\n",
              "      <td>0.6057</td>\n",
              "      <td>-0.3278</td>\n",
              "      <td>0.6042</td>\n",
              "      <td>-0.3075</td>\n",
              "      <td>-0.1147</td>\n",
              "      <td>-0.0570</td>\n",
              "      <td>-0.0799</td>\n",
              "      <td>-0.8181</td>\n",
              "      <td>-1.5320</td>\n",
              "      <td>0.2307</td>\n",
              "      <td>0.4901</td>\n",
              "      <td>0.4780</td>\n",
              "      <td>-1.3970</td>\n",
              "      <td>4.6240</td>\n",
              "      <td>-0.0437</td>\n",
              "      <td>1.2870</td>\n",
              "      <td>-1.8530</td>\n",
              "      <td>0.6069</td>\n",
              "      <td>0.4290</td>\n",
              "      <td>0.1783</td>\n",
              "      <td>0.0018</td>\n",
              "      <td>-1.1800</td>\n",
              "      <td>...</td>\n",
              "      <td>-0.5477</td>\n",
              "      <td>-0.7576</td>\n",
              "      <td>-0.0444</td>\n",
              "      <td>0.1894</td>\n",
              "      <td>-0.0014</td>\n",
              "      <td>-2.3640</td>\n",
              "      <td>-0.4682</td>\n",
              "      <td>0.1210</td>\n",
              "      <td>-0.5177</td>\n",
              "      <td>-0.0604</td>\n",
              "      <td>0.1682</td>\n",
              "      <td>-0.4436</td>\n",
              "      <td>0.4963</td>\n",
              "      <td>0.1363</td>\n",
              "      <td>0.3335</td>\n",
              "      <td>0.9760</td>\n",
              "      <td>-0.0427</td>\n",
              "      <td>-0.1235</td>\n",
              "      <td>0.0959</td>\n",
              "      <td>0.0690</td>\n",
              "      <td>-0.9416</td>\n",
              "      <td>-0.7548</td>\n",
              "      <td>-0.1109</td>\n",
              "      <td>-0.6272</td>\n",
              "      <td>0.3019</td>\n",
              "      <td>0.1172</td>\n",
              "      <td>0.1093</td>\n",
              "      <td>-0.3113</td>\n",
              "      <td>0.3019</td>\n",
              "      <td>-0.0873</td>\n",
              "      <td>-0.7250</td>\n",
              "      <td>-0.6297</td>\n",
              "      <td>0.6103</td>\n",
              "      <td>0.0223</td>\n",
              "      <td>-1.3240</td>\n",
              "      <td>-0.3174</td>\n",
              "      <td>-0.6417</td>\n",
              "      <td>-0.2187</td>\n",
              "      <td>-1.4080</td>\n",
              "      <td>0.6931</td>\n",
              "    </tr>\n",
              "    <tr>\n",
              "      <th>3</th>\n",
              "      <td>id_0015fd391</td>\n",
              "      <td>trt_cp</td>\n",
              "      <td>48</td>\n",
              "      <td>D1</td>\n",
              "      <td>-0.5138</td>\n",
              "      <td>-0.2491</td>\n",
              "      <td>-0.2656</td>\n",
              "      <td>0.5288</td>\n",
              "      <td>4.0620</td>\n",
              "      <td>-0.8095</td>\n",
              "      <td>-1.9590</td>\n",
              "      <td>0.1792</td>\n",
              "      <td>-0.1321</td>\n",
              "      <td>-1.0600</td>\n",
              "      <td>-0.8269</td>\n",
              "      <td>-0.3584</td>\n",
              "      <td>-0.8511</td>\n",
              "      <td>-0.5844</td>\n",
              "      <td>-2.5690</td>\n",
              "      <td>0.8183</td>\n",
              "      <td>-0.0532</td>\n",
              "      <td>-0.8554</td>\n",
              "      <td>0.1160</td>\n",
              "      <td>-2.3520</td>\n",
              "      <td>2.1200</td>\n",
              "      <td>-1.1580</td>\n",
              "      <td>-0.7191</td>\n",
              "      <td>-0.8004</td>\n",
              "      <td>-1.4670</td>\n",
              "      <td>-0.0107</td>\n",
              "      <td>-0.8995</td>\n",
              "      <td>0.2406</td>\n",
              "      <td>-0.2479</td>\n",
              "      <td>-1.0890</td>\n",
              "      <td>-0.7575</td>\n",
              "      <td>0.0881</td>\n",
              "      <td>-2.7370</td>\n",
              "      <td>0.8745</td>\n",
              "      <td>0.5787</td>\n",
              "      <td>-1.6740</td>\n",
              "      <td>...</td>\n",
              "      <td>-2.1220</td>\n",
              "      <td>-0.3752</td>\n",
              "      <td>-2.3820</td>\n",
              "      <td>-3.7350</td>\n",
              "      <td>-2.9740</td>\n",
              "      <td>-1.4930</td>\n",
              "      <td>-1.6600</td>\n",
              "      <td>-3.1660</td>\n",
              "      <td>0.2816</td>\n",
              "      <td>-0.2990</td>\n",
              "      <td>-1.1870</td>\n",
              "      <td>-0.5044</td>\n",
              "      <td>-1.7750</td>\n",
              "      <td>-1.6120</td>\n",
              "      <td>-0.9215</td>\n",
              "      <td>-1.0810</td>\n",
              "      <td>-3.0520</td>\n",
              "      <td>-3.4470</td>\n",
              "      <td>-2.7740</td>\n",
              "      <td>-1.8460</td>\n",
              "      <td>-0.5568</td>\n",
              "      <td>-3.3960</td>\n",
              "      <td>-2.9510</td>\n",
              "      <td>-1.1550</td>\n",
              "      <td>-3.2620</td>\n",
              "      <td>-1.5390</td>\n",
              "      <td>-2.4600</td>\n",
              "      <td>-0.9417</td>\n",
              "      <td>-1.5550</td>\n",
              "      <td>0.2431</td>\n",
              "      <td>-2.0990</td>\n",
              "      <td>-0.6441</td>\n",
              "      <td>-5.6300</td>\n",
              "      <td>-1.3780</td>\n",
              "      <td>-0.8632</td>\n",
              "      <td>-1.2880</td>\n",
              "      <td>-1.6210</td>\n",
              "      <td>-0.8784</td>\n",
              "      <td>-0.3876</td>\n",
              "      <td>-0.8154</td>\n",
              "    </tr>\n",
              "    <tr>\n",
              "      <th>4</th>\n",
              "      <td>id_001626bd3</td>\n",
              "      <td>trt_cp</td>\n",
              "      <td>72</td>\n",
              "      <td>D2</td>\n",
              "      <td>-0.3254</td>\n",
              "      <td>-0.4009</td>\n",
              "      <td>0.9700</td>\n",
              "      <td>0.6919</td>\n",
              "      <td>1.4180</td>\n",
              "      <td>-0.8244</td>\n",
              "      <td>-0.2800</td>\n",
              "      <td>-0.1498</td>\n",
              "      <td>-0.8789</td>\n",
              "      <td>0.8630</td>\n",
              "      <td>-0.2219</td>\n",
              "      <td>-0.5121</td>\n",
              "      <td>-0.9577</td>\n",
              "      <td>1.1750</td>\n",
              "      <td>0.2042</td>\n",
              "      <td>0.1970</td>\n",
              "      <td>0.1244</td>\n",
              "      <td>-1.7090</td>\n",
              "      <td>-0.3543</td>\n",
              "      <td>-0.5160</td>\n",
              "      <td>-0.3330</td>\n",
              "      <td>-0.2685</td>\n",
              "      <td>0.7649</td>\n",
              "      <td>0.2057</td>\n",
              "      <td>1.3720</td>\n",
              "      <td>0.6835</td>\n",
              "      <td>0.8056</td>\n",
              "      <td>-0.3754</td>\n",
              "      <td>-1.2090</td>\n",
              "      <td>0.2965</td>\n",
              "      <td>-0.0712</td>\n",
              "      <td>0.6389</td>\n",
              "      <td>0.6674</td>\n",
              "      <td>-0.0783</td>\n",
              "      <td>1.1740</td>\n",
              "      <td>-0.7110</td>\n",
              "      <td>...</td>\n",
              "      <td>-0.2274</td>\n",
              "      <td>0.3215</td>\n",
              "      <td>0.1535</td>\n",
              "      <td>-0.4640</td>\n",
              "      <td>-0.5943</td>\n",
              "      <td>0.3973</td>\n",
              "      <td>0.1500</td>\n",
              "      <td>0.5178</td>\n",
              "      <td>0.5159</td>\n",
              "      <td>0.6091</td>\n",
              "      <td>0.1813</td>\n",
              "      <td>-0.4249</td>\n",
              "      <td>0.7832</td>\n",
              "      <td>0.6529</td>\n",
              "      <td>0.5648</td>\n",
              "      <td>0.4817</td>\n",
              "      <td>0.0587</td>\n",
              "      <td>0.5303</td>\n",
              "      <td>0.6376</td>\n",
              "      <td>-0.3966</td>\n",
              "      <td>-1.4950</td>\n",
              "      <td>-0.9625</td>\n",
              "      <td>-0.0541</td>\n",
              "      <td>0.6273</td>\n",
              "      <td>0.4563</td>\n",
              "      <td>0.0698</td>\n",
              "      <td>0.8134</td>\n",
              "      <td>0.1924</td>\n",
              "      <td>0.6054</td>\n",
              "      <td>-0.1824</td>\n",
              "      <td>0.0042</td>\n",
              "      <td>0.0048</td>\n",
              "      <td>0.6670</td>\n",
              "      <td>1.0690</td>\n",
              "      <td>0.5523</td>\n",
              "      <td>-0.3031</td>\n",
              "      <td>0.1094</td>\n",
              "      <td>0.2885</td>\n",
              "      <td>-0.3786</td>\n",
              "      <td>0.7125</td>\n",
              "    </tr>\n",
              "    <tr>\n",
              "      <th>...</th>\n",
              "      <td>...</td>\n",
              "      <td>...</td>\n",
              "      <td>...</td>\n",
              "      <td>...</td>\n",
              "      <td>...</td>\n",
              "      <td>...</td>\n",
              "      <td>...</td>\n",
              "      <td>...</td>\n",
              "      <td>...</td>\n",
              "      <td>...</td>\n",
              "      <td>...</td>\n",
              "      <td>...</td>\n",
              "      <td>...</td>\n",
              "      <td>...</td>\n",
              "      <td>...</td>\n",
              "      <td>...</td>\n",
              "      <td>...</td>\n",
              "      <td>...</td>\n",
              "      <td>...</td>\n",
              "      <td>...</td>\n",
              "      <td>...</td>\n",
              "      <td>...</td>\n",
              "      <td>...</td>\n",
              "      <td>...</td>\n",
              "      <td>...</td>\n",
              "      <td>...</td>\n",
              "      <td>...</td>\n",
              "      <td>...</td>\n",
              "      <td>...</td>\n",
              "      <td>...</td>\n",
              "      <td>...</td>\n",
              "      <td>...</td>\n",
              "      <td>...</td>\n",
              "      <td>...</td>\n",
              "      <td>...</td>\n",
              "      <td>...</td>\n",
              "      <td>...</td>\n",
              "      <td>...</td>\n",
              "      <td>...</td>\n",
              "      <td>...</td>\n",
              "      <td>...</td>\n",
              "      <td>...</td>\n",
              "      <td>...</td>\n",
              "      <td>...</td>\n",
              "      <td>...</td>\n",
              "      <td>...</td>\n",
              "      <td>...</td>\n",
              "      <td>...</td>\n",
              "      <td>...</td>\n",
              "      <td>...</td>\n",
              "      <td>...</td>\n",
              "      <td>...</td>\n",
              "      <td>...</td>\n",
              "      <td>...</td>\n",
              "      <td>...</td>\n",
              "      <td>...</td>\n",
              "      <td>...</td>\n",
              "      <td>...</td>\n",
              "      <td>...</td>\n",
              "      <td>...</td>\n",
              "      <td>...</td>\n",
              "      <td>...</td>\n",
              "      <td>...</td>\n",
              "      <td>...</td>\n",
              "      <td>...</td>\n",
              "      <td>...</td>\n",
              "      <td>...</td>\n",
              "      <td>...</td>\n",
              "      <td>...</td>\n",
              "      <td>...</td>\n",
              "      <td>...</td>\n",
              "      <td>...</td>\n",
              "      <td>...</td>\n",
              "      <td>...</td>\n",
              "      <td>...</td>\n",
              "      <td>...</td>\n",
              "      <td>...</td>\n",
              "      <td>...</td>\n",
              "      <td>...</td>\n",
              "      <td>...</td>\n",
              "      <td>...</td>\n",
              "    </tr>\n",
              "    <tr>\n",
              "      <th>23809</th>\n",
              "      <td>id_fffb1ceed</td>\n",
              "      <td>trt_cp</td>\n",
              "      <td>24</td>\n",
              "      <td>D2</td>\n",
              "      <td>0.1394</td>\n",
              "      <td>-0.0636</td>\n",
              "      <td>-0.1112</td>\n",
              "      <td>-0.5080</td>\n",
              "      <td>-0.4713</td>\n",
              "      <td>0.7201</td>\n",
              "      <td>0.5773</td>\n",
              "      <td>0.3055</td>\n",
              "      <td>-0.4726</td>\n",
              "      <td>0.1269</td>\n",
              "      <td>0.2531</td>\n",
              "      <td>0.1730</td>\n",
              "      <td>-0.4532</td>\n",
              "      <td>-1.0790</td>\n",
              "      <td>0.2474</td>\n",
              "      <td>-0.4550</td>\n",
              "      <td>0.3588</td>\n",
              "      <td>0.1600</td>\n",
              "      <td>-0.7362</td>\n",
              "      <td>-0.1103</td>\n",
              "      <td>0.8550</td>\n",
              "      <td>-0.4139</td>\n",
              "      <td>0.5541</td>\n",
              "      <td>0.2310</td>\n",
              "      <td>-0.5573</td>\n",
              "      <td>-0.4397</td>\n",
              "      <td>-0.9260</td>\n",
              "      <td>-0.2424</td>\n",
              "      <td>-0.6686</td>\n",
              "      <td>0.2326</td>\n",
              "      <td>0.6456</td>\n",
              "      <td>0.0136</td>\n",
              "      <td>-0.5141</td>\n",
              "      <td>-0.6320</td>\n",
              "      <td>0.7166</td>\n",
              "      <td>-0.1736</td>\n",
              "      <td>...</td>\n",
              "      <td>0.0807</td>\n",
              "      <td>0.4024</td>\n",
              "      <td>-0.0895</td>\n",
              "      <td>0.4420</td>\n",
              "      <td>0.9641</td>\n",
              "      <td>-0.1846</td>\n",
              "      <td>-0.0014</td>\n",
              "      <td>0.3154</td>\n",
              "      <td>-0.2071</td>\n",
              "      <td>-0.6158</td>\n",
              "      <td>-0.2977</td>\n",
              "      <td>0.0992</td>\n",
              "      <td>0.6838</td>\n",
              "      <td>0.5259</td>\n",
              "      <td>0.7882</td>\n",
              "      <td>0.3119</td>\n",
              "      <td>-0.7697</td>\n",
              "      <td>0.2203</td>\n",
              "      <td>-1.0710</td>\n",
              "      <td>0.5979</td>\n",
              "      <td>0.0848</td>\n",
              "      <td>-0.2555</td>\n",
              "      <td>0.6293</td>\n",
              "      <td>1.1660</td>\n",
              "      <td>0.3329</td>\n",
              "      <td>0.2754</td>\n",
              "      <td>0.4108</td>\n",
              "      <td>-0.1252</td>\n",
              "      <td>-0.2340</td>\n",
              "      <td>0.2267</td>\n",
              "      <td>0.1969</td>\n",
              "      <td>0.0262</td>\n",
              "      <td>-0.8121</td>\n",
              "      <td>0.3434</td>\n",
              "      <td>0.5372</td>\n",
              "      <td>-0.3246</td>\n",
              "      <td>0.0631</td>\n",
              "      <td>0.9171</td>\n",
              "      <td>0.5258</td>\n",
              "      <td>0.4680</td>\n",
              "    </tr>\n",
              "    <tr>\n",
              "      <th>23810</th>\n",
              "      <td>id_fffb70c0c</td>\n",
              "      <td>trt_cp</td>\n",
              "      <td>24</td>\n",
              "      <td>D2</td>\n",
              "      <td>-1.3260</td>\n",
              "      <td>0.3478</td>\n",
              "      <td>-0.3743</td>\n",
              "      <td>0.9905</td>\n",
              "      <td>-0.7178</td>\n",
              "      <td>0.6621</td>\n",
              "      <td>-0.2252</td>\n",
              "      <td>-0.5565</td>\n",
              "      <td>0.5112</td>\n",
              "      <td>0.6727</td>\n",
              "      <td>-0.1851</td>\n",
              "      <td>2.8650</td>\n",
              "      <td>-0.2140</td>\n",
              "      <td>-0.6153</td>\n",
              "      <td>0.8362</td>\n",
              "      <td>0.5584</td>\n",
              "      <td>-0.2589</td>\n",
              "      <td>0.1292</td>\n",
              "      <td>0.0148</td>\n",
              "      <td>0.0949</td>\n",
              "      <td>-0.2182</td>\n",
              "      <td>-0.9235</td>\n",
              "      <td>0.0749</td>\n",
              "      <td>-1.5910</td>\n",
              "      <td>-0.8359</td>\n",
              "      <td>-0.9217</td>\n",
              "      <td>0.3013</td>\n",
              "      <td>0.1716</td>\n",
              "      <td>0.0880</td>\n",
              "      <td>0.1842</td>\n",
              "      <td>0.1835</td>\n",
              "      <td>0.5436</td>\n",
              "      <td>-0.0533</td>\n",
              "      <td>-0.0491</td>\n",
              "      <td>0.9543</td>\n",
              "      <td>0.4626</td>\n",
              "      <td>...</td>\n",
              "      <td>0.1410</td>\n",
              "      <td>1.2640</td>\n",
              "      <td>-0.8663</td>\n",
              "      <td>0.8129</td>\n",
              "      <td>-0.1514</td>\n",
              "      <td>-0.4652</td>\n",
              "      <td>-0.7390</td>\n",
              "      <td>-1.3270</td>\n",
              "      <td>0.9925</td>\n",
              "      <td>1.0570</td>\n",
              "      <td>-0.3355</td>\n",
              "      <td>-0.2555</td>\n",
              "      <td>0.8219</td>\n",
              "      <td>0.6995</td>\n",
              "      <td>-0.2942</td>\n",
              "      <td>0.2408</td>\n",
              "      <td>-0.7781</td>\n",
              "      <td>-0.0929</td>\n",
              "      <td>-0.0329</td>\n",
              "      <td>0.0781</td>\n",
              "      <td>-1.4440</td>\n",
              "      <td>-0.0921</td>\n",
              "      <td>0.3188</td>\n",
              "      <td>-1.1080</td>\n",
              "      <td>0.4895</td>\n",
              "      <td>-0.2144</td>\n",
              "      <td>1.0960</td>\n",
              "      <td>0.3335</td>\n",
              "      <td>0.4444</td>\n",
              "      <td>-1.1130</td>\n",
              "      <td>0.4286</td>\n",
              "      <td>0.4426</td>\n",
              "      <td>0.0423</td>\n",
              "      <td>-0.3195</td>\n",
              "      <td>-0.8086</td>\n",
              "      <td>-0.9798</td>\n",
              "      <td>-0.2084</td>\n",
              "      <td>-0.1224</td>\n",
              "      <td>-0.2715</td>\n",
              "      <td>0.3689</td>\n",
              "    </tr>\n",
              "    <tr>\n",
              "      <th>23811</th>\n",
              "      <td>id_fffc1c3f4</td>\n",
              "      <td>ctl_vehicle</td>\n",
              "      <td>48</td>\n",
              "      <td>D2</td>\n",
              "      <td>0.3942</td>\n",
              "      <td>0.3756</td>\n",
              "      <td>0.3109</td>\n",
              "      <td>-0.7389</td>\n",
              "      <td>0.5505</td>\n",
              "      <td>-0.0159</td>\n",
              "      <td>-0.2541</td>\n",
              "      <td>0.1745</td>\n",
              "      <td>-0.0340</td>\n",
              "      <td>0.4865</td>\n",
              "      <td>-0.1854</td>\n",
              "      <td>0.0716</td>\n",
              "      <td>0.1729</td>\n",
              "      <td>-0.0434</td>\n",
              "      <td>0.1542</td>\n",
              "      <td>-0.2192</td>\n",
              "      <td>-0.0302</td>\n",
              "      <td>-0.4218</td>\n",
              "      <td>0.4057</td>\n",
              "      <td>-0.5372</td>\n",
              "      <td>0.1521</td>\n",
              "      <td>-0.2651</td>\n",
              "      <td>0.2310</td>\n",
              "      <td>-0.8101</td>\n",
              "      <td>0.4943</td>\n",
              "      <td>0.6905</td>\n",
              "      <td>-0.3720</td>\n",
              "      <td>-1.4110</td>\n",
              "      <td>0.4516</td>\n",
              "      <td>1.2300</td>\n",
              "      <td>-0.1949</td>\n",
              "      <td>-1.3280</td>\n",
              "      <td>-0.4276</td>\n",
              "      <td>-0.0040</td>\n",
              "      <td>-0.3086</td>\n",
              "      <td>-0.2355</td>\n",
              "      <td>...</td>\n",
              "      <td>0.6845</td>\n",
              "      <td>0.7127</td>\n",
              "      <td>0.7294</td>\n",
              "      <td>0.4718</td>\n",
              "      <td>-0.2020</td>\n",
              "      <td>0.2783</td>\n",
              "      <td>0.4934</td>\n",
              "      <td>0.4144</td>\n",
              "      <td>0.5449</td>\n",
              "      <td>1.4690</td>\n",
              "      <td>-0.6142</td>\n",
              "      <td>0.6068</td>\n",
              "      <td>0.3434</td>\n",
              "      <td>0.9880</td>\n",
              "      <td>-0.0468</td>\n",
              "      <td>-0.1882</td>\n",
              "      <td>-0.0087</td>\n",
              "      <td>-0.0356</td>\n",
              "      <td>0.5718</td>\n",
              "      <td>0.4971</td>\n",
              "      <td>0.1057</td>\n",
              "      <td>0.2111</td>\n",
              "      <td>0.6992</td>\n",
              "      <td>0.0708</td>\n",
              "      <td>0.6169</td>\n",
              "      <td>0.2248</td>\n",
              "      <td>0.5994</td>\n",
              "      <td>0.2689</td>\n",
              "      <td>0.0305</td>\n",
              "      <td>1.2320</td>\n",
              "      <td>0.5409</td>\n",
              "      <td>0.3755</td>\n",
              "      <td>0.7343</td>\n",
              "      <td>0.2807</td>\n",
              "      <td>0.4116</td>\n",
              "      <td>0.6422</td>\n",
              "      <td>0.2256</td>\n",
              "      <td>0.7592</td>\n",
              "      <td>0.6656</td>\n",
              "      <td>0.3808</td>\n",
              "    </tr>\n",
              "    <tr>\n",
              "      <th>23812</th>\n",
              "      <td>id_fffcb9e7c</td>\n",
              "      <td>trt_cp</td>\n",
              "      <td>24</td>\n",
              "      <td>D1</td>\n",
              "      <td>0.6660</td>\n",
              "      <td>0.2324</td>\n",
              "      <td>0.4392</td>\n",
              "      <td>0.2044</td>\n",
              "      <td>0.8531</td>\n",
              "      <td>-0.0343</td>\n",
              "      <td>0.0323</td>\n",
              "      <td>0.0463</td>\n",
              "      <td>0.4299</td>\n",
              "      <td>-0.7985</td>\n",
              "      <td>0.5742</td>\n",
              "      <td>0.1421</td>\n",
              "      <td>2.2700</td>\n",
              "      <td>0.2046</td>\n",
              "      <td>0.5363</td>\n",
              "      <td>-1.7330</td>\n",
              "      <td>0.1450</td>\n",
              "      <td>0.6097</td>\n",
              "      <td>0.2024</td>\n",
              "      <td>0.9865</td>\n",
              "      <td>-0.7805</td>\n",
              "      <td>0.9608</td>\n",
              "      <td>0.3440</td>\n",
              "      <td>2.7650</td>\n",
              "      <td>0.4925</td>\n",
              "      <td>0.6698</td>\n",
              "      <td>0.2374</td>\n",
              "      <td>-0.3372</td>\n",
              "      <td>0.8771</td>\n",
              "      <td>-2.6560</td>\n",
              "      <td>-0.2000</td>\n",
              "      <td>-0.2043</td>\n",
              "      <td>0.6797</td>\n",
              "      <td>-0.0248</td>\n",
              "      <td>-0.0927</td>\n",
              "      <td>1.8480</td>\n",
              "      <td>...</td>\n",
              "      <td>0.3360</td>\n",
              "      <td>-0.6136</td>\n",
              "      <td>0.5011</td>\n",
              "      <td>0.9261</td>\n",
              "      <td>0.4419</td>\n",
              "      <td>0.0295</td>\n",
              "      <td>0.4220</td>\n",
              "      <td>0.4677</td>\n",
              "      <td>-0.1184</td>\n",
              "      <td>0.4524</td>\n",
              "      <td>0.4135</td>\n",
              "      <td>0.1356</td>\n",
              "      <td>-0.5801</td>\n",
              "      <td>0.0411</td>\n",
              "      <td>1.0240</td>\n",
              "      <td>1.0340</td>\n",
              "      <td>-0.0270</td>\n",
              "      <td>-0.4194</td>\n",
              "      <td>0.7403</td>\n",
              "      <td>-0.6793</td>\n",
              "      <td>-0.1423</td>\n",
              "      <td>0.7307</td>\n",
              "      <td>0.7946</td>\n",
              "      <td>-0.0650</td>\n",
              "      <td>0.9038</td>\n",
              "      <td>0.2324</td>\n",
              "      <td>0.9676</td>\n",
              "      <td>1.0940</td>\n",
              "      <td>0.4290</td>\n",
              "      <td>0.5187</td>\n",
              "      <td>-0.1105</td>\n",
              "      <td>0.4258</td>\n",
              "      <td>-0.2012</td>\n",
              "      <td>0.1506</td>\n",
              "      <td>1.5230</td>\n",
              "      <td>0.7101</td>\n",
              "      <td>0.1732</td>\n",
              "      <td>0.7015</td>\n",
              "      <td>-0.6290</td>\n",
              "      <td>0.0740</td>\n",
              "    </tr>\n",
              "    <tr>\n",
              "      <th>23813</th>\n",
              "      <td>id_ffffdd77b</td>\n",
              "      <td>trt_cp</td>\n",
              "      <td>72</td>\n",
              "      <td>D1</td>\n",
              "      <td>-0.8598</td>\n",
              "      <td>1.0240</td>\n",
              "      <td>-0.1361</td>\n",
              "      <td>0.7952</td>\n",
              "      <td>-0.3611</td>\n",
              "      <td>-3.6750</td>\n",
              "      <td>-1.2420</td>\n",
              "      <td>0.9146</td>\n",
              "      <td>3.0790</td>\n",
              "      <td>1.2460</td>\n",
              "      <td>1.9460</td>\n",
              "      <td>1.4370</td>\n",
              "      <td>2.9780</td>\n",
              "      <td>2.2370</td>\n",
              "      <td>-0.6818</td>\n",
              "      <td>0.6870</td>\n",
              "      <td>-1.1060</td>\n",
              "      <td>0.0182</td>\n",
              "      <td>-0.9247</td>\n",
              "      <td>-0.0738</td>\n",
              "      <td>-0.1919</td>\n",
              "      <td>-0.7722</td>\n",
              "      <td>-1.4050</td>\n",
              "      <td>-1.0050</td>\n",
              "      <td>-1.1170</td>\n",
              "      <td>-0.5293</td>\n",
              "      <td>-1.1720</td>\n",
              "      <td>-0.2885</td>\n",
              "      <td>0.1599</td>\n",
              "      <td>-0.4250</td>\n",
              "      <td>0.3591</td>\n",
              "      <td>-0.1420</td>\n",
              "      <td>-0.9530</td>\n",
              "      <td>-0.2005</td>\n",
              "      <td>-1.8340</td>\n",
              "      <td>-0.5768</td>\n",
              "      <td>...</td>\n",
              "      <td>-6.9170</td>\n",
              "      <td>-1.8640</td>\n",
              "      <td>-2.5090</td>\n",
              "      <td>-4.7130</td>\n",
              "      <td>-1.7250</td>\n",
              "      <td>-3.8650</td>\n",
              "      <td>-3.0800</td>\n",
              "      <td>-4.1530</td>\n",
              "      <td>-1.2030</td>\n",
              "      <td>-1.1690</td>\n",
              "      <td>-4.1460</td>\n",
              "      <td>-1.2670</td>\n",
              "      <td>-1.1300</td>\n",
              "      <td>-2.4390</td>\n",
              "      <td>0.1591</td>\n",
              "      <td>-2.2490</td>\n",
              "      <td>-2.5860</td>\n",
              "      <td>-1.9520</td>\n",
              "      <td>-2.1810</td>\n",
              "      <td>-4.6690</td>\n",
              "      <td>-3.9450</td>\n",
              "      <td>-2.9560</td>\n",
              "      <td>-2.7930</td>\n",
              "      <td>-2.1560</td>\n",
              "      <td>-2.4100</td>\n",
              "      <td>-1.8190</td>\n",
              "      <td>-3.3480</td>\n",
              "      <td>-0.1414</td>\n",
              "      <td>-2.6430</td>\n",
              "      <td>-2.5810</td>\n",
              "      <td>-3.3890</td>\n",
              "      <td>-1.7450</td>\n",
              "      <td>-6.6300</td>\n",
              "      <td>-4.0950</td>\n",
              "      <td>-7.3860</td>\n",
              "      <td>-1.4160</td>\n",
              "      <td>-3.5770</td>\n",
              "      <td>-0.4775</td>\n",
              "      <td>-2.1500</td>\n",
              "      <td>-4.2520</td>\n",
              "    </tr>\n",
              "  </tbody>\n",
              "</table>\n",
              "<p>23814 rows × 876 columns</p>\n",
              "</div>"
            ],
            "text/plain": [
              "             sig_id      cp_type  cp_time  ...    c-97    c-98    c-99\n",
              "0      id_000644bb2       trt_cp       24  ...  0.2139  0.3801  0.4176\n",
              "1      id_000779bfc       trt_cp       72  ...  0.1241  0.6077  0.7371\n",
              "2      id_000a6266a       trt_cp       48  ... -0.2187 -1.4080  0.6931\n",
              "3      id_0015fd391       trt_cp       48  ... -0.8784 -0.3876 -0.8154\n",
              "4      id_001626bd3       trt_cp       72  ...  0.2885 -0.3786  0.7125\n",
              "...             ...          ...      ...  ...     ...     ...     ...\n",
              "23809  id_fffb1ceed       trt_cp       24  ...  0.9171  0.5258  0.4680\n",
              "23810  id_fffb70c0c       trt_cp       24  ... -0.1224 -0.2715  0.3689\n",
              "23811  id_fffc1c3f4  ctl_vehicle       48  ...  0.7592  0.6656  0.3808\n",
              "23812  id_fffcb9e7c       trt_cp       24  ...  0.7015 -0.6290  0.0740\n",
              "23813  id_ffffdd77b       trt_cp       72  ... -0.4775 -2.1500 -4.2520\n",
              "\n",
              "[23814 rows x 876 columns]"
            ]
          },
          "metadata": {
            "tags": []
          },
          "execution_count": 33
        }
      ]
    },
    {
      "cell_type": "markdown",
      "metadata": {
        "papermill": {
          "duration": 0.034104,
          "end_time": "2020-11-10T12:52:31.583260",
          "exception": false,
          "start_time": "2020-11-10T12:52:31.549156",
          "status": "completed"
        },
        "tags": [],
        "id": "rFc85lq0ulU6"
      },
      "source": [
        "In general agonist and antagonist should not have 1 at the same time"
      ]
    },
    {
      "cell_type": "markdown",
      "metadata": {
        "papermill": {
          "duration": 0.035394,
          "end_time": "2020-11-10T12:52:31.655155",
          "exception": false,
          "start_time": "2020-11-10T12:52:31.619761",
          "status": "completed"
        },
        "tags": [],
        "id": "_eePHgHuulU7"
      },
      "source": [
        "## Feature engineering"
      ]
    },
    {
      "cell_type": "code",
      "metadata": {
        "execution": {
          "iopub.execute_input": "2020-11-10T12:52:31.758348Z",
          "iopub.status.busy": "2020-11-10T12:52:31.756844Z",
          "iopub.status.idle": "2020-11-10T12:52:32.288069Z",
          "shell.execute_reply": "2020-11-10T12:52:32.288629Z"
        },
        "papermill": {
          "duration": 0.595531,
          "end_time": "2020-11-10T12:52:32.288838",
          "exception": false,
          "start_time": "2020-11-10T12:52:31.693307",
          "status": "completed"
        },
        "tags": [],
        "id": "FbfY8-WVulU9"
      },
      "source": [
        "\n",
        "train.at[train['cp_type'].str.contains('ctl_vehicle'),train.filter(regex='-.*').columns] = 0.0\n",
        "\n",
        "test.at[test['cp_type'].str.contains('ctl_vehicle'),test.filter(regex='-.*').columns] = 0.0"
      ],
      "execution_count": null,
      "outputs": []
    },
    {
      "cell_type": "markdown",
      "metadata": {
        "papermill": {
          "duration": 0.033765,
          "end_time": "2020-11-10T12:52:32.357772",
          "exception": false,
          "start_time": "2020-11-10T12:52:32.324007",
          "status": "completed"
        },
        "tags": [],
        "id": "QmXZ7SqhulVG"
      },
      "source": [
        "## OHE"
      ]
    },
    {
      "cell_type": "code",
      "metadata": {
        "execution": {
          "iopub.execute_input": "2020-11-10T12:52:32.438888Z",
          "iopub.status.busy": "2020-11-10T12:52:32.438084Z",
          "iopub.status.idle": "2020-11-10T12:52:32.892814Z",
          "shell.execute_reply": "2020-11-10T12:52:32.892159Z"
        },
        "papermill": {
          "duration": 0.500053,
          "end_time": "2020-11-10T12:52:32.892958",
          "exception": false,
          "start_time": "2020-11-10T12:52:32.392905",
          "status": "completed"
        },
        "tags": [],
        "id": "DREHM9xZulVH"
      },
      "source": [
        "train_size = train.shape[0]\n",
        "\n",
        "traintest = pd.concat([train, test])\n",
        "\n",
        "traintest = pd.concat([traintest, pd.get_dummies(traintest['cp_type'], prefix='cp_type')], axis=1)\n",
        "traintest = pd.concat([traintest, pd.get_dummies(traintest['cp_time'], prefix='cp_time')], axis=1)\n",
        "traintest = pd.concat([traintest, pd.get_dummies(traintest['cp_dose'], prefix='cp_dose')], axis=1)\n",
        "\n",
        "traintest = traintest.drop(['cp_type', 'cp_time', 'cp_dose'], axis=1)\n",
        "\n",
        "train = traintest[:train_size]\n",
        "test  = traintest[train_size:]\n",
        "\n",
        "del traintest"
      ],
      "execution_count": null,
      "outputs": []
    },
    {
      "cell_type": "code",
      "metadata": {
        "execution": {
          "iopub.execute_input": "2020-11-10T12:52:32.970009Z",
          "iopub.status.busy": "2020-11-10T12:52:32.968759Z",
          "iopub.status.idle": "2020-11-10T12:52:32.974037Z",
          "shell.execute_reply": "2020-11-10T12:52:32.973094Z"
        },
        "papermill": {
          "duration": 0.04568,
          "end_time": "2020-11-10T12:52:32.974198",
          "exception": false,
          "start_time": "2020-11-10T12:52:32.928518",
          "status": "completed"
        },
        "tags": [],
        "id": "cYOOil0PulVO",
        "colab": {
          "base_uri": "https://localhost:8080/"
        },
        "outputId": "c997d2e6-fb98-42e5-cea6-bc1d065a5a15"
      },
      "source": [
        "train.shape"
      ],
      "execution_count": null,
      "outputs": [
        {
          "output_type": "execute_result",
          "data": {
            "text/plain": [
              "(23814, 880)"
            ]
          },
          "metadata": {
            "tags": []
          },
          "execution_count": 36
        }
      ]
    },
    {
      "cell_type": "markdown",
      "metadata": {
        "papermill": {
          "duration": 0.035598,
          "end_time": "2020-11-10T12:52:33.045787",
          "exception": false,
          "start_time": "2020-11-10T12:52:33.010189",
          "status": "completed"
        },
        "tags": [],
        "id": "3Nz1SoSQulVX"
      },
      "source": [
        "## Prepare x, y"
      ]
    },
    {
      "cell_type": "code",
      "metadata": {
        "execution": {
          "iopub.execute_input": "2020-11-10T12:52:33.178297Z",
          "iopub.status.busy": "2020-11-10T12:52:33.177343Z",
          "iopub.status.idle": "2020-11-10T12:52:33.204565Z",
          "shell.execute_reply": "2020-11-10T12:52:33.203942Z"
        },
        "papermill": {
          "duration": 0.122275,
          "end_time": "2020-11-10T12:52:33.204736",
          "exception": false,
          "start_time": "2020-11-10T12:52:33.082461",
          "status": "completed"
        },
        "tags": [],
        "id": "XweJ32IsulVZ"
      },
      "source": [
        "X_1 = train.drop('sig_id', axis=1)\n",
        "\n",
        "Y_1 = train_target.drop('sig_id', axis=1)\n",
        "\n",
        "X_final = test.drop('sig_id', axis=1)"
      ],
      "execution_count": null,
      "outputs": []
    },
    {
      "cell_type": "code",
      "metadata": {
        "papermill": {
          "duration": 0.035178,
          "end_time": "2020-11-10T12:52:33.277025",
          "exception": false,
          "start_time": "2020-11-10T12:52:33.241847",
          "status": "completed"
        },
        "tags": [],
        "id": "yc2oEtJWulVh"
      },
      "source": [
        ""
      ],
      "execution_count": null,
      "outputs": []
    },
    {
      "cell_type": "markdown",
      "metadata": {
        "papermill": {
          "duration": 0.035385,
          "end_time": "2020-11-10T12:52:33.347239",
          "exception": false,
          "start_time": "2020-11-10T12:52:33.311854",
          "status": "completed"
        },
        "tags": [],
        "id": "C0jnE26culVo"
      },
      "source": [
        "## Feature selection"
      ]
    },
    {
      "cell_type": "code",
      "metadata": {
        "execution": {
          "iopub.execute_input": "2020-11-10T12:52:33.423187Z",
          "iopub.status.busy": "2020-11-10T12:52:33.422059Z",
          "iopub.status.idle": "2020-11-10T12:52:33.425222Z",
          "shell.execute_reply": "2020-11-10T12:52:33.425876Z"
        },
        "papermill": {
          "duration": 0.043924,
          "end_time": "2020-11-10T12:52:33.426031",
          "exception": false,
          "start_time": "2020-11-10T12:52:33.382107",
          "status": "completed"
        },
        "tags": [],
        "id": "0PBoYMOVulVq"
      },
      "source": [
        "# from https://www.kaggle.com/pavelvpster/moa-keras-optuna-rfecv\n",
        "\n",
        "# 500\n",
        "#selected_features = #['g-0', 'g-1', 'g-2', 'g-3', 'g-4', 'g-5', 'g-6', 'g-7', 'g-8', 'g-9', 'g-10', 'g-11', 'g-12', 'g-13', 'g-14', 'g-15', 'g-16', 'g-17', 'g-18', 'g-19', 'g-20', 'g-21', 'g-22', 'g-23', 'g-24', 'g-25', 'g-26', 'g-27', 'g-28', 'g-29', 'g-30', 'g-31', 'g-32', 'g-33', 'g-34', 'g-35', 'g-36', 'g-37', 'g-38', 'g-39', 'g-40', 'g-41', 'g-42', 'g-43', 'g-44', 'g-45', 'g-46', 'g-47', 'g-48', 'g-49', 'g-50', 'g-51', 'g-52', 'g-53', 'g-54', 'g-55', 'g-56', 'g-57', 'g-58', 'g-59', 'g-60', 'g-61', 'g-62', 'g-63', 'g-64', 'g-65', 'g-66', 'g-67', 'g-68', 'g-69', 'g-70', 'g-71', 'g-72', 'g-73', 'g-74', 'g-75', 'g-76', 'g-77', 'g-78', 'g-79', 'g-80', 'g-81', 'g-82', 'g-83', 'g-84', 'g-85', 'g-86', 'g-87', 'g-88', 'g-89', 'g-90', 'g-91', 'g-92', 'g-93', 'g-94', 'g-95', 'g-96', 'g-97', 'g-98', 'g-99', 'g-100', 'g-101', 'g-102', 'g-103', 'g-104', 'g-105', 'g-106', 'g-107', 'g-108', 'g-109', 'g-110', 'g-111', 'g-112', 'g-113', 'g-114', 'g-115', 'g-116', 'g-117', 'g-118', 'g-121', 'g-122', 'g-123', 'g-125', 'g-126', 'g-127', 'g-128', 'g-129', 'g-130', 'g-131', 'g-132', 'g-133', 'g-139', 'g-144', 'g-149', 'g-152', 'g-153', 'g-154', 'g-155', 'g-158', 'g-161', 'g-162', 'g-165', 'g-166', 'g-167', 'g-168', 'g-169', 'g-170', 'g-171', 'g-172', 'g-173', 'g-174', 'g-175', 'g-176', 'g-177', 'g-178', 'g-179', 'g-180', 'g-182', 'g-185', 'g-188', 'g-189', 'g-191', 'g-192', 'g-193', 'g-194', 'g-195', 'g-196', 'g-197', 'g-198', 'g-199', 'g-200', 'g-201', 'g-202', 'g-203', 'g-204', 'g-209', 'g-211', 'g-213', 'g-214', 'g-217', 'g-220', 'g-221', 'g-222', 'g-223', 'g-225', 'g-226', 'g-229', 'g-233', 'g-239', 'g-240', 'g-243', 'g-244', 'g-246', 'g-247', 'g-250', 'g-254', 'g-255', 'g-256', 'g-257', 'g-259', 'g-261', 'g-262', 'g-265', 'g-269', 'g-270', 'g-271', 'g-273', 'g-279', 'g-282', 'g-284', 'g-286', 'g-289', 'g-292', 'g-294', 'g-295', 'g-298', 'g-299', 'g-300', 'g-303', 'g-306', 'g-310', 'g-311', 'g-312', 'g-314', 'g-316', 'g-317', 'g-318', 'g-320', 'g-321', 'g-323', 'g-326', 'g-327', 'g-328', 'g-332', 'g-333', 'g-335', 'g-339', 'g-340', 'g-341', 'g-346', 'g-347', 'g-351', 'g-353', 'g-355', 'g-357', 'g-360', 'g-364', 'g-365', 'g-370', 'g-375', 'g-383', 'g-385', 'g-388', 'g-389', 'g-390', 'g-391', 'g-392', 'g-399', 'g-401', 'g-402', 'g-403', 'g-404', 'g-409', 'g-417', 'g-423', 'g-424', 'g-425', 'g-426', 'g-428', 'g-429', 'g-430', 'g-431', 'g-433', 'g-434', 'g-438', 'g-439', 'g-440', 'g-441', 'g-443', 'g-444', 'g-445', 'g-446', 'g-447', 'g-448', 'g-449', 'g-450', 'g-451', 'g-452', 'g-453', 'g-454', 'g-455', 'g-456', 'g-460', 'g-461', 'g-463', 'g-465', 'g-467', 'g-470', 'g-473', 'g-474', 'g-475', 'g-476', 'g-481', 'g-483', 'g-485', 'g-486', 'g-489', 'g-490', 'g-495', 'g-500', 'g-501', 'g-502', 'g-504', 'g-509', 'g-513', 'g-516', 'g-517', 'g-518', 'g-527', 'g-531', 'g-535', 'g-540', 'g-542', 'g-543', 'g-544', 'g-547', 'g-548', 'g-549', 'g-552', 'g-556', 'g-558', 'g-562', 'g-566', 'g-571', 'g-572', 'g-573', 'g-574', 'g-578', 'g-584', 'g-585', 'g-590', 'g-592', 'g-595', 'g-596', 'g-600', 'g-602', 'g-603', 'g-605', 'g-606', 'g-611', 'g-612', 'g-615', 'g-617', 'g-618', 'g-619', 'g-620', 'g-623', 'g-624', 'g-625', 'g-626', 'g-627', 'g-628', 'g-629', 'g-630', 'g-631', 'g-632', 'g-633', 'g-634', 'g-635', 'g-636', 'g-637', 'g-638', 'g-639', 'g-640', 'g-643', 'g-645', 'g-646', 'g-648', 'g-651', 'g-654', 'g-657', 'g-658', 'g-659', 'g-660', 'g-661', 'g-662', 'g-663', 'g-664', 'g-665', 'g-666', 'g-668', 'g-670', 'g-672', 'g-673', 'g-674', 'g-675', 'g-677', 'g-678', 'g-679', 'g-685', 'g-689', 'g-695', 'g-697', 'g-698', 'g-699', 'g-701', 'g-702', 'g-703', 'g-704', 'g-707', 'g-709', 'g-710', 'g-712', 'g-713', 'g-714', 'g-715', 'g-721', 'g-722', 'g-724', 'g-725', 'g-726', 'g-734', 'g-736', 'g-737', 'g-740', 'g-742', 'g-743', 'g-745', 'g-747', 'g-750', 'g-751', 'g-752', 'g-753', 'g-756', 'g-757', 'g-758', 'g-759', 'g-760', 'g-761', 'g-762', 'g-763', 'g-764', 'g-766', 'g-767', 'g-768', 'g-769', 'g-770', 'g-771', 'c-0', 'c-1', 'c-2', 'c-3', 'c-4', 'c-5', 'c-11', 'c-12', 'c-14', 'c-19', 'c-20', 'c-21', 'c-22', 'c-23', 'c-25', 'c-27', 'c-32', 'c-35', 'c-36', 'c-37', 'c-40', 'c-47', 'c-54', 'c-55', 'c-57', 'c-58', 'c-61', 'c-62', 'c-63', 'c-65', 'c-66', 'c-71', 'c-74', 'c-75', 'c-77', 'c-78', 'c-79', 'c-80', 'c-81', 'c-82', 'c-83', 'c-84', 'c-85', 'c-86', 'c-87', 'c-88', 'c-89', 'c-90', 'c-91', 'c-92', 'c-93', 'c-97']"
      ],
      "execution_count": null,
      "outputs": []
    },
    {
      "cell_type": "code",
      "metadata": {
        "execution": {
          "iopub.execute_input": "2020-11-10T12:52:33.504325Z",
          "iopub.status.busy": "2020-11-10T12:52:33.503161Z",
          "iopub.status.idle": "2020-11-10T12:52:33.506770Z",
          "shell.execute_reply": "2020-11-10T12:52:33.506014Z"
        },
        "papermill": {
          "duration": 0.045439,
          "end_time": "2020-11-10T12:52:33.506906",
          "exception": false,
          "start_time": "2020-11-10T12:52:33.461467",
          "status": "completed"
        },
        "tags": [],
        "id": "gI7AHtBEulV4"
      },
      "source": [
        "# x_train = x_train[selected_features]\n",
        "\n",
        "# x_test = x_test[selected_features]"
      ],
      "execution_count": null,
      "outputs": []
    },
    {
      "cell_type": "markdown",
      "metadata": {
        "papermill": {
          "duration": 0.036091,
          "end_time": "2020-11-10T12:52:33.578960",
          "exception": false,
          "start_time": "2020-11-10T12:52:33.542869",
          "status": "completed"
        },
        "tags": [],
        "id": "fQae-8yMulWC"
      },
      "source": [
        "## LightGBM"
      ]
    },
    {
      "cell_type": "code",
      "metadata": {
        "execution": {
          "iopub.execute_input": "2020-11-10T12:52:33.656944Z",
          "iopub.status.busy": "2020-11-10T12:52:33.655774Z",
          "iopub.status.idle": "2020-11-10T12:52:34.698292Z",
          "shell.execute_reply": "2020-11-10T12:52:34.697568Z"
        },
        "papermill": {
          "duration": 1.082257,
          "end_time": "2020-11-10T12:52:34.698421",
          "exception": false,
          "start_time": "2020-11-10T12:52:33.616164",
          "status": "completed"
        },
        "tags": [],
        "id": "PXN3uz3rulWF"
      },
      "source": [
        "import lightgbm as lgb\n",
        "import xgboost as xgb\n",
        "from sklearn.ensemble import GradientBoostingClassifier"
      ],
      "execution_count": null,
      "outputs": []
    },
    {
      "cell_type": "code",
      "metadata": {
        "execution": {
          "iopub.execute_input": "2020-11-10T12:52:35.253319Z",
          "iopub.status.busy": "2020-11-10T12:52:35.252513Z",
          "iopub.status.idle": "2020-11-10T12:52:35.256057Z",
          "shell.execute_reply": "2020-11-10T12:52:35.255290Z"
        },
        "papermill": {
          "duration": 0.046739,
          "end_time": "2020-11-10T12:52:35.256198",
          "exception": false,
          "start_time": "2020-11-10T12:52:35.209459",
          "status": "completed"
        },
        "tags": [],
        "id": "H2r-8BqeulWd"
      },
      "source": [
        "p_min = 0.001\n",
        "p_max = 0.999\n",
        "def logloss(y_true, y_pred):\n",
        "    y_pred = np.clip(y_pred,p_min,p_max)\n",
        "    return -np.mean(y_true*np.log(y_pred) + (1-y_true)*np.log(1-y_pred))"
      ],
      "execution_count": null,
      "outputs": []
    },
    {
      "cell_type": "code",
      "metadata": {
        "execution": {
          "iopub.execute_input": "2020-11-10T12:52:35.334213Z",
          "iopub.status.busy": "2020-11-10T12:52:35.333216Z",
          "iopub.status.idle": "2020-11-10T12:52:35.526672Z",
          "shell.execute_reply": "2020-11-10T12:52:35.525882Z"
        },
        "papermill": {
          "duration": 0.236081,
          "end_time": "2020-11-10T12:52:35.526804",
          "exception": false,
          "start_time": "2020-11-10T12:52:35.290723",
          "status": "completed"
        },
        "tags": [],
        "id": "RP0Xl4c-ulWk"
      },
      "source": [
        "from sklearn.model_selection import train_test_split\n",
        "X_train,X_test,y_train,y_test=train_test_split(X_1,Y_1,test_size=0.3,random_state=9999)"
      ],
      "execution_count": null,
      "outputs": []
    },
    {
      "cell_type": "code",
      "metadata": {
        "execution": {
          "iopub.execute_input": "2020-11-10T12:52:35.611849Z",
          "iopub.status.busy": "2020-11-10T12:52:35.611012Z",
          "iopub.status.idle": "2020-11-10T12:52:35.740943Z",
          "shell.execute_reply": "2020-11-10T12:52:35.740123Z"
        },
        "papermill": {
          "duration": 0.170809,
          "end_time": "2020-11-10T12:52:35.741082",
          "exception": false,
          "start_time": "2020-11-10T12:52:35.570273",
          "status": "completed"
        },
        "tags": [],
        "id": "DjwCothMulWt"
      },
      "source": [
        "submission = pd.read_csv(folder_path +'sample_submission.csv')"
      ],
      "execution_count": null,
      "outputs": []
    },
    {
      "cell_type": "code",
      "metadata": {
        "execution": {
          "iopub.execute_input": "2020-11-10T12:52:35.818121Z",
          "iopub.status.busy": "2020-11-10T12:52:35.817195Z",
          "iopub.status.idle": "2020-11-10T12:52:35.820553Z",
          "shell.execute_reply": "2020-11-10T12:52:35.819794Z"
        },
        "papermill": {
          "duration": 0.043093,
          "end_time": "2020-11-10T12:52:35.820699",
          "exception": false,
          "start_time": "2020-11-10T12:52:35.777606",
          "status": "completed"
        },
        "tags": [],
        "id": "PGDu76LoulW3"
      },
      "source": [
        "target_cols = ['dopamine_receptor_antagonist']\n"
      ],
      "execution_count": null,
      "outputs": []
    },
    {
      "cell_type": "code",
      "metadata": {
        "execution": {
          "iopub.execute_input": "2020-11-10T12:52:35.897225Z",
          "iopub.status.busy": "2020-11-10T12:52:35.896466Z",
          "iopub.status.idle": "2020-11-10T12:52:35.907882Z",
          "shell.execute_reply": "2020-11-10T12:52:35.907068Z"
        },
        "papermill": {
          "duration": 0.052656,
          "end_time": "2020-11-10T12:52:35.908027",
          "exception": false,
          "start_time": "2020-11-10T12:52:35.855371",
          "status": "completed"
        },
        "tags": [],
        "id": "dIP9_xP0ulW-"
      },
      "source": [
        "import pickle\n",
        "input_feats_file=input_path +'feats_important.txt'\n",
        "with open(input_feats_file, 'rb') as handle:\n",
        "  dict_feats = pickle.loads(handle.read())"
      ],
      "execution_count": null,
      "outputs": []
    },
    {
      "cell_type": "code",
      "metadata": {
        "id": "7oy-Yw2hx2FL"
      },
      "source": [
        "from sklearn.ensemble import VotingClassifier\n",
        "params_xgb_1={\n",
        "            'num_threads': 20,\n",
        "            'random_state': 1000,\n",
        "            'learning_rate': 0.01,\n",
        "            'n_estimators':1000,\n",
        "            'max_leaf_nodes': 100 ,\n",
        "            'min_child_weight':0.0010123391323415569,\n",
        "            'max_depth':10,\n",
        "            'subsample': 0.7968351296815959,\n",
        "            'colsample_bytree ': 0.8556374471450119,\n",
        "            'alpha': 0.23497601594060086,\n",
        "            'lambda': 0.15889208239516134\n",
        "    }\n",
        "params_xgb_2={\n",
        "            'num_threads': 20,\n",
        "            'random_state': 2000,\n",
        "            'learning_rate': 0.01,\n",
        "            'n_estimators':1000,\n",
        "            'max_leaf_nodes': 100 ,\n",
        "             'min_child_weight':0.0010123391323415569,\n",
        "            'max_depth':10,\n",
        "            'subsample': 0.7968351296815959,\n",
        "            'colsample_bytree ': 0.8556374471450119,\n",
        "            'alpha': 0.23497601594060086,\n",
        "            'lambda': 0.15889208239516134\n",
        "    }\n",
        "params_lgb_1={\n",
        "            'objective': 'binary',\n",
        "            'metric': 'binary_logloss',\n",
        "            'boosting_type': 'gbdt',\n",
        "            'boost_from_average': True,\n",
        "            'num_threads': 20,\n",
        "            'random_state': 1000,\n",
        "\n",
        "            'learning_rate': 0.01,\n",
        "            'num_iterations':1000,\n",
        "\n",
        "            # from Optuna result in Version 7\n",
        "            'num_leaves': 100 ,\n",
        "            'min_data_in_leaf': 92,\n",
        "            'min_child_weight': 0.0010123391323415569,\n",
        "            'max_depth': 10,\n",
        "            'bagging_fraction': 0.7968351296815959,\n",
        "            'feature_fraction': 0.8556374471450119,\n",
        "            'lambda_l1': 0.23497601594060086,\n",
        "            'lambda_l2': 0.15889208239516134\n",
        "    }\n",
        "params_lgb_2={\n",
        "            'objective': 'binary',\n",
        "            'metric': 'binary_logloss',\n",
        "            'boosting_type': 'gbdt',\n",
        "            'boost_from_average': True,\n",
        "            'num_threads': 20,\n",
        "            'random_state': 1000,\n",
        "\n",
        "            'learning_rate': 0.01,\n",
        "            'num_iterations':1000,\n",
        "\n",
        "            # from Optuna result in Version 7\n",
        "            'num_leaves': 100 ,\n",
        "            'min_data_in_leaf': 92,\n",
        "            'min_child_weight': 0.0010123391323415569,\n",
        "            'max_depth': 10,\n",
        "            'bagging_fraction': 0.7968351296815959,\n",
        "            'feature_fraction': 0.8556374471450119,\n",
        "            'lambda_l1': 0.23497601594060086,\n",
        "            'lambda_l2': 0.15889208239516134\n",
        "    }\n",
        "params_gbc_1={\n",
        "            'num_threads': 20,\n",
        "            'random_state': 1000,\n",
        "            'learning_rate': 0.01,\n",
        "            'num_iterations':1000,\n",
        "            # from Optuna result in Version 7\n",
        "            'max_leaf_nodes': 100 ,\n",
        "            'min_samples_leaf':92,\n",
        "            'max_depth': 10,\n",
        "            'min_samples_split': 0.7968351296815959\n",
        "            \n",
        "    }\n",
        "params_gbc_2={\n",
        "            'num_threads': 20,\n",
        "            'random_state': 2000,\n",
        "\n",
        "            'learning_rate': 0.01,\n",
        "            'num_iterations':1000,\n",
        "\n",
        "            # from Optuna result in Version 7\n",
        "            'max_leaf_nodes': 100 ,\n",
        "            'min_samples_leaf':92,\n",
        "            'max_depth': 10,\n",
        "            'min_samples_split': 0.7968351296815959\n",
        "            \n",
        "    }\n",
        "xgb1 = xgb.XGBClassifier(params=params_xgb_1)\n",
        "xgb2 = xgb.XGBClassifier(params=params_xgb_2)\n",
        "lgb1 = lgb.LGBMClassifier(objective='binary',metric='binary_logloss',boosting_type='gbdt',boost_from_average=True,num_threads=20,random_state=1000,learning_rate=0.01,num_iterations=1000,num_leaves=100,min_data_in_leaf=92,min_child_weight=0.0010123391323415569,max_depth=10,bagging_fraction=0.7968351296815959,feature_fraction=0.8556374471450119,lambda_l1=0.23497601594060086,lambda_l2=0.15889208239516134)\n",
        "lgb2 = lgb.LGBMClassifier(objective='binary',metric='binary_logloss',boosting_type='gbdt',boost_from_average=True,num_threads=20,random_state=2000,learning_rate=0.01,num_iterations=1000,num_leaves=100,min_data_in_leaf=92,min_child_weight=0.0010123391323415569,max_depth=10,bagging_fraction=0.7968351296815959,feature_fraction=0.8556374471450119,lambda_l1=0.23497601594060086,lambda_l2=0.15889208239516134)\n",
        "gbc1 = GradientBoostingClassifier(random_state=2000,learning_rate=0.01,n_estimators=1000,max_leaf_nodes=100,min_samples_leaf=92,max_depth=10,min_samples_split=0.7968351296815959)\n",
        "gbc2 = GradientBoostingClassifier(random_state=1000,learning_rate=0.01,n_estimators=1000,max_leaf_nodes=100,min_samples_leaf=92,max_depth=10,min_samples_split=0.7968351296815959)\n",
        "\n",
        "#votingC = VotingClassifier(estimators=[('gbc1',gbc1),('gbc2',gbc2),('xgb1', xgb1),('xgb2',xgb2),('lgb1',lgb1),('lgb2',lgb2)], voting='soft')\n",
        "\n",
        "votingC = VotingClassifier(estimators=[('lgb1',lgb1),('lgb2',lgb2)], voting='hard')"
      ],
      "execution_count": null,
      "outputs": []
    },
    {
      "cell_type": "code",
      "metadata": {
        "execution": {
          "iopub.execute_input": "2020-11-10T12:52:36.221034Z",
          "iopub.status.busy": "2020-11-10T12:52:36.219854Z",
          "iopub.status.idle": "2020-11-10T12:52:36.223539Z",
          "shell.execute_reply": "2020-11-10T12:52:36.222767Z"
        },
        "papermill": {
          "duration": 0.056513,
          "end_time": "2020-11-10T12:52:36.223695",
          "exception": false,
          "start_time": "2020-11-10T12:52:36.167182",
          "status": "completed"
        },
        "tags": [],
        "id": "PnnhJNQnulXO"
      },
      "source": [
        "def model_sub_1(X_train,y_train,X_test,y_test):\n",
        "    model=votingC.fit(X_train,y_train)\n",
        "    y_pred=model.predict_proba(X_test)\n",
        "    score= logloss(y_test,y_pred[:,1])\n",
        "    return model,score"
      ],
      "execution_count": null,
      "outputs": []
    },
    {
      "cell_type": "code",
      "metadata": {
        "execution": {
          "iopub.execute_input": "2020-11-10T12:52:36.311316Z",
          "iopub.status.busy": "2020-11-10T12:52:36.310420Z",
          "iopub.status.idle": "2020-11-10T12:52:36.314205Z",
          "shell.execute_reply": "2020-11-10T12:52:36.313473Z"
        },
        "papermill": {
          "duration": 0.049415,
          "end_time": "2020-11-10T12:52:36.314327",
          "exception": false,
          "start_time": "2020-11-10T12:52:36.264912",
          "status": "completed"
        },
        "tags": [],
        "id": "cmQrh2siulXZ"
      },
      "source": [
        "target_cols=Y_1.columns\n",
        "target_cols=['dopamine_receptor_antagonist']"
      ],
      "execution_count": null,
      "outputs": []
    },
    {
      "cell_type": "code",
      "metadata": {
        "execution": {
          "iopub.execute_input": "2020-11-10T12:52:36.427688Z",
          "iopub.status.busy": "2020-11-10T12:52:36.426184Z",
          "iopub.status.idle": "2020-11-10T14:17:58.036772Z",
          "shell.execute_reply": "2020-11-10T14:17:58.039093Z"
        },
        "papermill": {
          "duration": 5121.682791,
          "end_time": "2020-11-10T14:17:58.039403",
          "exception": false,
          "start_time": "2020-11-10T12:52:36.356612",
          "status": "completed"
        },
        "tags": [],
        "id": "fQ-KWrk7ulXg",
        "colab": {
          "base_uri": "https://localhost:8080/"
        },
        "outputId": "06b42185-b27c-4e4a-9ab2-649e1ac5e88e"
      },
      "source": [
        "scores = []\n",
        "score_model={}\n",
        "for col in target_cols:\n",
        "    print(col)\n",
        "    list_feats = dict_feats[col]\n",
        "    X_train_res,y_train_res=X_train[list_feats],y_train[col]\n",
        "    #X_train_res,y_train_res=X_train,y_train[col] #resampling_data(X_train,y_train[col])\n",
        "    clf,score = model_sub_1(X_train_res,y_train_res,X_test[list_feats],y_test[col])\n",
        "    test_pred=clf.predict_proba(X_final[list_feats])\n",
        "    y_pred_final=test_pred[:,1]\n",
        "    # test_pred=clf.predict(X_final[list_feats])\n",
        "    # y_pred_final=test_pred\n",
        "    print(score)\n",
        "    score_model[col]=score\n",
        "    submission[col]=y_pred_final\n",
        "    scores.append(score)\n",
        "print(np.mean(scores))"
      ],
      "execution_count": null,
      "outputs": [
        {
          "output_type": "stream",
          "text": [
            "dopamine_receptor_antagonist\n"
          ],
          "name": "stdout"
        },
        {
          "output_type": "stream",
          "text": [
            "/usr/local/lib/python3.6/dist-packages/lightgbm/engine.py:118: UserWarning: Found `num_iterations` in params. Will use it instead of argument\n",
            "  warnings.warn(\"Found `{}` in params. Will use it instead of argument\".format(alias))\n"
          ],
          "name": "stderr"
        },
        {
          "output_type": "stream",
          "text": [
            "0.10632536442278681\n",
            "0.10632536442278681\n"
          ],
          "name": "stdout"
        }
      ]
    },
    {
      "cell_type": "code",
      "metadata": {
        "id": "sg8rli64MgcV"
      },
      "source": [
        "print(score)"
      ],
      "execution_count": null,
      "outputs": []
    },
    {
      "cell_type": "code",
      "metadata": {
        "execution": {
          "iopub.execute_input": "2020-11-10T14:17:58.835276Z",
          "iopub.status.busy": "2020-11-10T14:17:58.832448Z",
          "iopub.status.idle": "2020-11-10T14:17:58.858988Z",
          "shell.execute_reply": "2020-11-10T14:17:58.859574Z"
        },
        "papermill": {
          "duration": 0.349776,
          "end_time": "2020-11-10T14:17:58.859800",
          "exception": false,
          "start_time": "2020-11-10T14:17:58.510024",
          "status": "completed"
        },
        "tags": [],
        "id": "mVK0_2ggulXn"
      },
      "source": [
        "sort_orders = sorted(score_model.items(), key=lambda x: x[1], reverse=True)\n",
        "\n",
        "for i in sort_orders:\n",
        "\tprint(i[0], i[1])\n"
      ],
      "execution_count": null,
      "outputs": []
    },
    {
      "cell_type": "code",
      "metadata": {
        "execution": {
          "iopub.execute_input": "2020-11-10T14:17:59.537555Z",
          "iopub.status.busy": "2020-11-10T14:17:59.536515Z",
          "iopub.status.idle": "2020-11-10T14:17:59.540971Z",
          "shell.execute_reply": "2020-11-10T14:17:59.539939Z"
        },
        "papermill": {
          "duration": 0.344183,
          "end_time": "2020-11-10T14:17:59.541120",
          "exception": false,
          "start_time": "2020-11-10T14:17:59.196937",
          "status": "completed"
        },
        "tags": [],
        "id": "5aBnwaY8ulXu"
      },
      "source": [
        "# import matplotlib.pyplot as plt\n",
        "# features = X_train.columns\n",
        "# importances = clf.feature_importances_\n",
        "# indices = np.argsort(importances)[::-1]\n",
        "\n",
        "\n",
        "# for i in range(X_train.shape[1]):\n",
        "#    print(features[indices[i]], importances[indices[i]]*100)"
      ],
      "execution_count": null,
      "outputs": []
    },
    {
      "cell_type": "code",
      "metadata": {
        "execution": {
          "iopub.execute_input": "2020-11-10T14:18:00.225423Z",
          "iopub.status.busy": "2020-11-10T14:18:00.224514Z",
          "iopub.status.idle": "2020-11-10T14:18:02.888543Z",
          "shell.execute_reply": "2020-11-10T14:18:02.887531Z"
        },
        "papermill": {
          "duration": 3.007088,
          "end_time": "2020-11-10T14:18:02.888784",
          "exception": false,
          "start_time": "2020-11-10T14:17:59.881696",
          "status": "completed"
        },
        "tags": [],
        "id": "XxgVh6OculX0"
      },
      "source": [
        "submission.to_csv('submission.csv', index=False)"
      ],
      "execution_count": null,
      "outputs": []
    }
  ]
}